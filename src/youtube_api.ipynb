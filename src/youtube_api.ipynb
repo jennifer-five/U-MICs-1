{
  "nbformat": 4,
  "nbformat_minor": 0,
  "metadata": {
    "colab": {
      "name": "youtube_api.ipynb",
      "provenance": []
    },
    "kernelspec": {
      "name": "python3",
      "display_name": "Python 3"
    },
    "language_info": {
      "name": "python"
    }
  },
  "cells": [
    {
      "cell_type": "code",
      "execution_count": null,
      "metadata": {
        "id": "inqGG_p0Ydtj"
      },
      "outputs": [],
      "source": [
        "import requests\n",
        "import pandas as pd\n",
        "import time\n",
        "from datetime import datetime\n",
        "\n"
      ]
    },
    {
      "cell_type": "markdown",
      "source": [
        ""
      ],
      "metadata": {
        "id": "hohGNJxTTzzk"
      }
    },
    {
      "cell_type": "code",
      "source": [
        "def get_video_details(video_id):\n",
        "\n",
        "    #collecting view, like, comment counts\n",
        "    url_video_stats = \"https://www.googleapis.com/youtube/v3/videos?id=\"+video_id+\"&part=statistics&key=\"+API_KEY\n",
        "    response_video_stats = requests.get(url_video_stats).json()\n",
        "\n",
        "    \n",
        "    view_count = response_video_stats['items'][0]['statistics']['viewCount']\n",
        "    if 'likeCount' in response_video_stats['items'][0]['statistics']:\n",
        "      like_count = response_video_stats['items'][0]['statistics']['likeCount']\n",
        "    else:\n",
        "      like_count = 0\n",
        "    \n",
        "    if 'commentCount' in response_video_stats['items'][0]['statistics']:\n",
        "      comment_count = response_video_stats['items'][0]['statistics']['commentCount']\n",
        "    else:\n",
        "      comment_count = 0\n",
        "\n",
        "    \n",
        "    url_video_time = 'https://www.googleapis.com/youtube/v3/videos?id='+ video_id +'&part=contentDetails&key='+API_KEY\n",
        "    response_video_time = requests.get(url_video_time).json()\n",
        "    if 'duration' in response_video_time['items'][0]['contentDetails']:\n",
        "      duration = response_video_time['items'][0]['contentDetails']['duration']\n",
        "    else:\n",
        "      duration = 0\n",
        "\n",
        "    url_video_describe = 'https://www.googleapis.com/youtube/v3/videos?part=snippet&id='+video_id+'&key='+ API_KEY\n",
        "    response_video_describe = requests.get(url_video_describe).json()\n",
        "    if 'tags' in response_video_describe['items'][0]['snippet']:\n",
        "      tags = response_video_describe['items'][0]['snippet']['tags']\n",
        "    else:\n",
        "      tags =[]\n",
        "    \n",
        "    if 'description'  in response_video_describe['items'][0]['snippet']:\n",
        "      description = response_video_describe['items'][0]['snippet']['description']\n",
        "    else:\n",
        "      description = ''\n",
        "    return view_count, like_count, comment_count, duration, tags, description"
      ],
      "metadata": {
        "id": "4S-ZQPfEZfAE"
      },
      "execution_count": null,
      "outputs": []
    },
    {
      "cell_type": "code",
      "source": [
        "def get_videos(df):\n",
        "    pageToken = \"\"\n",
        "    while 1:\n",
        "        sub_url = 'https://www.googleapis.com/youtube/v3/channels?part=statistics&id=' + CHANNEL_ID +'&key='+ API_KEY\n",
        "        if 'subscriberCount' in requests.get(sub_url).json()['items'][0]['statistics']:\n",
        "          subscriber = requests.get(sub_url).json()['items'][0]['statistics']['subscriberCount']\n",
        "        else:\n",
        "          subscriber = 0\n",
        "        url = \"https://www.googleapis.com/youtube/v3/search?key=\"+API_KEY+\"&channelId=\"+CHANNEL_ID+\"&part=snippet,id&order=date&maxResults=10000&\"+pageToken\n",
        "        \n",
        "\n",
        "        response = requests.get(url).json()\n",
        "        ct = datetime.now()\n",
        "        time.sleep(1) #give it a second before starting the for loop\n",
        "        for video in response['items']:\n",
        "            if video['id']['kind'] == \"youtube#video\":\n",
        "                video_id = video['id']['videoId']\n",
        "                video_title = video['snippet']['title']\n",
        "                video_title = str(video_title).replace(\"&amp;\",\"\")\n",
        "                upload_date = video['snippet']['publishedAt']\n",
        "                upload_date = str(upload_date).split(\"T\")[0]\n",
        "                view_count, like_count, comment_count, duration_count, tags, description= get_video_details(video_id)\n",
        "\n",
        "                df = df.append({\"datetime\":ct ,'video_id':video_id,'video_title':video_title,'video_tags':tags,\n",
        "                                'video_description' : description,\n",
        "                                \"upload_date\":upload_date,\"view_count\":view_count,\n",
        "                                \"like_count\":like_count, \"subscriber_count\":subscriber,\n",
        "                                \"comment_count\":comment_count, 'duration_count' : duration_count},ignore_index=True)\n",
        "        try:\n",
        "            if response['nextPageToken'] != None: #if none, it means it reached the last page and break out of it\n",
        "                pageToken = \"pageToken=\" + response['nextPageToken']\n",
        "\n",
        "        except:\n",
        "            break\n",
        "\n",
        "\n",
        "    return df"
      ],
      "metadata": {
        "id": "MeMq-xuS2jPb"
      },
      "execution_count": null,
      "outputs": []
    },
    {
      "cell_type": "code",
      "source": [
        "def get_videos_list(df):\n",
        "    pageToken = \"\"\n",
        "    while 1:\n",
        "        url = 'https://www.googleapis.com/youtube/v3/playlistItems?part=snippet%2C+contentDetails&maxResults=50&playlistId='+LIST_ID+'&key='+API_KEY\n",
        "\n",
        "        response = requests.get(url).json()\n",
        "        CHANNEL_ID = response['items'][0]['snippet']['videoOwnerChannelId']\n",
        "        sub_url = 'https://www.googleapis.com/youtube/v3/channels?part=statistics&id=' + CHANNEL_ID +'&key='+ API_KEY +pageToken\n",
        "        if 'subscriberCount' in requests.get(sub_url).json()['items'][0]['statistics']:\n",
        "          subscriber = requests.get(sub_url).json()['items'][0]['statistics']['subscriberCount']\n",
        "        else:\n",
        "          subscriber = 0\n",
        "        \n",
        "        ct = datetime.now()\n",
        "        time.sleep(1) #give it a second before starting the for loop\n",
        "        for video in response['items']:\n",
        "            if video['snippet']['resourceId'] == \"youtube#video\":\n",
        "                video_id = video['snippet']['videoId']\n",
        "                video_title = video['snippet']['title']\n",
        "                video_title = str(video_title).replace(\"&amp;\",\"\")\n",
        "                upload_date = video['snippet']['publishedAt']\n",
        "                upload_date = str(upload_date).split(\"T\")[0]\n",
        "                view_count, like_count, comment_count = get_video_details(video_id)\n",
        "\n",
        "                df = df.append({\"datetime\":ct ,'video_id':video_id,'video_title':video_title,\n",
        "                                \"upload_date\":upload_date,\"view_count\":view_count,\n",
        "                                \"like_count\":like_count, \"subscriber_count\":subscriber,\n",
        "                                \"comment_count\":comment_count},ignore_index=True)\n",
        "        try:\n",
        "            if response['nextPageToken'] != None: #if none, it means it reached the last page and break out of it\n",
        "                pageToken = \"pageToken=\" + response['nextPageToken']\n",
        "\n",
        "        except:\n",
        "            break\n",
        "\n",
        "\n",
        "    return df"
      ],
      "metadata": {
        "id": "Gl3jmtfklcHF"
      },
      "execution_count": null,
      "outputs": []
    },
    {
      "cell_type": "code",
      "source": [
        "df2 = pd.DataFrame(columns=[\"datetime\",\"video_id\",\"video_title\",'video_tags',\n",
        "                                'video_description' ,\"upload_date\",\"view_count\",\"like_count\",\"subscriber_count\",\"comment_count\", 'duration_count']) \n"
      ],
      "metadata": {
        "id": "O3eSxGPj4vYz"
      },
      "execution_count": null,
      "outputs": []
    },
    {
      "cell_type": "code",
      "source": [
        ""
      ],
      "metadata": {
        "id": "TiG2csPVYsWM"
      },
      "execution_count": null,
      "outputs": []
    },
    {
      "cell_type": "code",
      "source": [
        "#API_KEY = enter your own api key\n",
        "#1362\n",
        "CHANNEL_ID_list = ['UC93EEyk9ZHkB4b4RX-mn9WA','UCRp--eWwsLI_uIkCnsbfwFQ','UCn0JHLJWiO3_Y5xfNPcF_Ug','UCKU0iO0axnimO3b0G-BOO_g','UC8nmojd8biOW3rErBHH4cbg','UCT41vlFeZ_asAUCY7BOiJVQ','UCmK4gbkHU_afGKdB9RARcqA','UC1dPSiB4cK10mdchOcKrK8g']\n",
        "\n",
        "for CHANNEL_ID in CHANNEL_ID_list:\n",
        "  df2 = get_videos(df2)\n",
        "\n",
        "\n",
        "\n",
        "\n",
        "\n"
      ],
      "metadata": {
        "id": "rqnWZmRCWR-_"
      },
      "execution_count": null,
      "outputs": []
    },
    {
      "cell_type": "code",
      "source": [
        "df2"
      ],
      "metadata": {
        "colab": {
          "base_uri": "https://localhost:8080/",
          "height": 49
        },
        "id": "O7vqmzkj2pq9",
        "outputId": "d145cfa1-b6a3-4a39-e9c4-a89e8dd1f836"
      },
      "execution_count": null,
      "outputs": [
        {
          "output_type": "execute_result",
          "data": {
            "text/html": [
              "\n",
              "  <div id=\"df-944803ca-fb04-4fd8-af3f-8652e9d41f0c\">\n",
              "    <div class=\"colab-df-container\">\n",
              "      <div>\n",
              "<style scoped>\n",
              "    .dataframe tbody tr th:only-of-type {\n",
              "        vertical-align: middle;\n",
              "    }\n",
              "\n",
              "    .dataframe tbody tr th {\n",
              "        vertical-align: top;\n",
              "    }\n",
              "\n",
              "    .dataframe thead th {\n",
              "        text-align: right;\n",
              "    }\n",
              "</style>\n",
              "<table border=\"1\" class=\"dataframe\">\n",
              "  <thead>\n",
              "    <tr style=\"text-align: right;\">\n",
              "      <th></th>\n",
              "      <th>datetime</th>\n",
              "      <th>video_id</th>\n",
              "      <th>video_title</th>\n",
              "      <th>video_tags</th>\n",
              "      <th>video_description</th>\n",
              "      <th>upload_date</th>\n",
              "      <th>view_count</th>\n",
              "      <th>like_count</th>\n",
              "      <th>subscriber_count</th>\n",
              "      <th>comment_count</th>\n",
              "      <th>duration_count</th>\n",
              "    </tr>\n",
              "  </thead>\n",
              "  <tbody>\n",
              "  </tbody>\n",
              "</table>\n",
              "</div>\n",
              "      <button class=\"colab-df-convert\" onclick=\"convertToInteractive('df-944803ca-fb04-4fd8-af3f-8652e9d41f0c')\"\n",
              "              title=\"Convert this dataframe to an interactive table.\"\n",
              "              style=\"display:none;\">\n",
              "        \n",
              "  <svg xmlns=\"http://www.w3.org/2000/svg\" height=\"24px\"viewBox=\"0 0 24 24\"\n",
              "       width=\"24px\">\n",
              "    <path d=\"M0 0h24v24H0V0z\" fill=\"none\"/>\n",
              "    <path d=\"M18.56 5.44l.94 2.06.94-2.06 2.06-.94-2.06-.94-.94-2.06-.94 2.06-2.06.94zm-11 1L8.5 8.5l.94-2.06 2.06-.94-2.06-.94L8.5 2.5l-.94 2.06-2.06.94zm10 10l.94 2.06.94-2.06 2.06-.94-2.06-.94-.94-2.06-.94 2.06-2.06.94z\"/><path d=\"M17.41 7.96l-1.37-1.37c-.4-.4-.92-.59-1.43-.59-.52 0-1.04.2-1.43.59L10.3 9.45l-7.72 7.72c-.78.78-.78 2.05 0 2.83L4 21.41c.39.39.9.59 1.41.59.51 0 1.02-.2 1.41-.59l7.78-7.78 2.81-2.81c.8-.78.8-2.07 0-2.86zM5.41 20L4 18.59l7.72-7.72 1.47 1.35L5.41 20z\"/>\n",
              "  </svg>\n",
              "      </button>\n",
              "      \n",
              "  <style>\n",
              "    .colab-df-container {\n",
              "      display:flex;\n",
              "      flex-wrap:wrap;\n",
              "      gap: 12px;\n",
              "    }\n",
              "\n",
              "    .colab-df-convert {\n",
              "      background-color: #E8F0FE;\n",
              "      border: none;\n",
              "      border-radius: 50%;\n",
              "      cursor: pointer;\n",
              "      display: none;\n",
              "      fill: #1967D2;\n",
              "      height: 32px;\n",
              "      padding: 0 0 0 0;\n",
              "      width: 32px;\n",
              "    }\n",
              "\n",
              "    .colab-df-convert:hover {\n",
              "      background-color: #E2EBFA;\n",
              "      box-shadow: 0px 1px 2px rgba(60, 64, 67, 0.3), 0px 1px 3px 1px rgba(60, 64, 67, 0.15);\n",
              "      fill: #174EA6;\n",
              "    }\n",
              "\n",
              "    [theme=dark] .colab-df-convert {\n",
              "      background-color: #3B4455;\n",
              "      fill: #D2E3FC;\n",
              "    }\n",
              "\n",
              "    [theme=dark] .colab-df-convert:hover {\n",
              "      background-color: #434B5C;\n",
              "      box-shadow: 0px 1px 3px 1px rgba(0, 0, 0, 0.15);\n",
              "      filter: drop-shadow(0px 1px 2px rgba(0, 0, 0, 0.3));\n",
              "      fill: #FFFFFF;\n",
              "    }\n",
              "  </style>\n",
              "\n",
              "      <script>\n",
              "        const buttonEl =\n",
              "          document.querySelector('#df-944803ca-fb04-4fd8-af3f-8652e9d41f0c button.colab-df-convert');\n",
              "        buttonEl.style.display =\n",
              "          google.colab.kernel.accessAllowed ? 'block' : 'none';\n",
              "\n",
              "        async function convertToInteractive(key) {\n",
              "          const element = document.querySelector('#df-944803ca-fb04-4fd8-af3f-8652e9d41f0c');\n",
              "          const dataTable =\n",
              "            await google.colab.kernel.invokeFunction('convertToInteractive',\n",
              "                                                     [key], {});\n",
              "          if (!dataTable) return;\n",
              "\n",
              "          const docLinkHtml = 'Like what you see? Visit the ' +\n",
              "            '<a target=\"_blank\" href=https://colab.research.google.com/notebooks/data_table.ipynb>data table notebook</a>'\n",
              "            + ' to learn more about interactive tables.';\n",
              "          element.innerHTML = '';\n",
              "          dataTable['output_type'] = 'display_data';\n",
              "          await google.colab.output.renderOutput(dataTable, element);\n",
              "          const docLink = document.createElement('div');\n",
              "          docLink.innerHTML = docLinkHtml;\n",
              "          element.appendChild(docLink);\n",
              "        }\n",
              "      </script>\n",
              "    </div>\n",
              "  </div>\n",
              "  "
            ],
            "text/plain": [
              "Empty DataFrame\n",
              "Columns: [datetime, video_id, video_title, video_tags, video_description, upload_date, view_count, like_count, subscriber_count, comment_count, duration_count]\n",
              "Index: []"
            ]
          },
          "metadata": {},
          "execution_count": 4
        }
      ]
    },
    {
      "cell_type": "code",
      "source": [
        "df2.to_csv('youtube.csv')"
      ],
      "metadata": {
        "id": "rEaZcwRv9uzM"
      },
      "execution_count": null,
      "outputs": []
    }
  ]
}