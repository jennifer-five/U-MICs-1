{
  "nbformat": 4,
  "nbformat_minor": 0,
  "metadata": {
    "colab": {
      "name": "youtube_api.ipynb",
      "provenance": []
    },
    "kernelspec": {
      "name": "python3",
      "display_name": "Python 3"
    },
    "language_info": {
      "name": "python"
    }
  },
  "cells": [
    {
      "cell_type": "markdown",
      "source": [
        "This code is reference by:https://github.com/Strata-Scratch/api-youtube"
      ],
      "metadata": {
        "id": "MF4DiCglteBp"
      }
    },
    {
      "cell_type": "code",
      "execution_count": 1,
      "metadata": {
        "id": "inqGG_p0Ydtj",
        "colab": {
          "base_uri": "https://localhost:8080/"
        },
        "outputId": "bb55e0f4-4fca-484e-9a0b-e40603e94201"
      },
      "outputs": [
        {
          "output_type": "stream",
          "name": "stdout",
          "text": [
            "Requirement already satisfied: psycopg2 in /usr/local/lib/python3.7/dist-packages (2.7.6.1)\n"
          ]
        },
        {
          "output_type": "stream",
          "name": "stderr",
          "text": [
            "/usr/local/lib/python3.7/dist-packages/psycopg2/__init__.py:144: UserWarning: The psycopg2 wheel package will be renamed from release 2.8; in order to keep installing from binary please use \"pip install psycopg2-binary\" instead. For details see: <http://initd.org/psycopg/docs/install.html#binary-install-from-pypi>.\n",
            "  \"\"\")\n"
          ]
        }
      ],
      "source": [
        "import requests\n",
        "import pandas as pd\n",
        "import time\n",
        "from datetime import datetime\n",
        "\n",
        "!pip install psycopg2\n",
        "import psycopg2 as ps"
      ]
    },
    {
      "cell_type": "markdown",
      "source": [
        ""
      ],
      "metadata": {
        "id": "hohGNJxTTzzk"
      }
    },
    {
      "cell_type": "code",
      "source": [
        "def get_video_details(video_id):\n",
        "\n",
        "    #collecting view, like, comment counts\n",
        "    url_video_stats = \"https://www.googleapis.com/youtube/v3/videos?id=\"+video_id+\"&part=statistics&key=\"+API_KEY\n",
        "    response_video_stats = requests.get(url_video_stats).json()\n",
        "\n",
        "    \n",
        "    view_count = response_video_stats['items'][0]['statistics']['viewCount']\n",
        "    if 'likeCount' in response_video_stats['items'][0]['statistics']:\n",
        "      like_count = response_video_stats['items'][0]['statistics']['likeCount']\n",
        "    else:\n",
        "      like_count = 0\n",
        "    \n",
        "    if 'commentCount' in response_video_stats['items'][0]['statistics']:\n",
        "      comment_count = response_video_stats['items'][0]['statistics']['commentCount']\n",
        "    else:\n",
        "      comment_count = 0\n",
        "\n",
        "    \n",
        "    url_video_time = 'https://www.googleapis.com/youtube/v3/videos?id='+ video_id +'&part=contentDetails&key='+API_KEY\n",
        "    response_video_time = requests.get(url_video_time).json()\n",
        "    if 'duration' in response_video_time['items'][0]['contentDetails']:\n",
        "      duration = response_video_time['items'][0]['contentDetails']['duration']\n",
        "    else:\n",
        "      duration = 0\n",
        "\n",
        "    url_video_describe = 'https://www.googleapis.com/youtube/v3/videos?part=snippet&id='+video_id+'&key='+ API_KEY\n",
        "    response_video_describe = requests.get(url_video_describe).json()\n",
        "    if 'tags' in response_video_describe['items'][0]['snippet']:\n",
        "      tags = response_video_describe['items'][0]['snippet']['tags']\n",
        "    else:\n",
        "      tags =[]\n",
        "    \n",
        "    if 'description'  in response_video_describe['items'][0]['snippet']:\n",
        "      description = response_video_describe['items'][0]['snippet']['description']\n",
        "    else:\n",
        "      description = ''\n",
        "    return view_count, like_count, comment_count, duration, tags, description"
      ],
      "metadata": {
        "id": "4S-ZQPfEZfAE"
      },
      "execution_count": 2,
      "outputs": []
    },
    {
      "cell_type": "code",
      "source": [
        "def getduration(str):\n",
        "\tduratuion = 0\n",
        "\tif str is not None :\n",
        "\t\t\n",
        "\t\tif str.find('PT')>=0:\n",
        "\t\t\tstr = str.replace('PT', '')\n",
        "\t\tif str.find('H')>0:\n",
        "\t\t\th = str.find('H')\n",
        "\t\t\thr = str[:h]\n",
        "\t\t\tstr = str[h+1:]\n",
        "\t\t\tif hr.isdigit():\n",
        "\t\t\t\thour = int(hr)\n",
        "\t\t\telse:\n",
        "\t\t\t\thour = 0\n",
        "\t\telse:\n",
        "\t\t\thour = 0\n",
        "\t\t\n",
        "\t\tif str.find('M')>0:\n",
        "\t\t\tmin = 0\n",
        "\t\t\tm = str.find('M')\n",
        "\t\t\tmins = str[:m]\n",
        "\t\t\tstr = str[m+1:]\n",
        "\t\t\tif mins.isdigit():\n",
        "\t\t\t\tmin = int(mins)\n",
        "\t\t\telse:\n",
        "\t\t\t\tmin = 0\n",
        "\t\telse:\n",
        "\t\t\tmin=0\n",
        "\t\tif str.find('S')>0:\n",
        "\t\t\tsecond = 0\n",
        "\t\t\ts = str.find('S')\n",
        "\t\t\tseconds = str[:s]\n",
        "\t\t\tstr = str[s+1:]\n",
        "\t\t\tif seconds.isdigit():\n",
        "\t\t\t\tsecond = int(seconds)\n",
        "\t\t\telse:\n",
        "\t\t\t\tsecond = 0\n",
        "\t\telse:\n",
        "\t\t\tsecond = 0 \n",
        "\t\t\n",
        "\t\tduration = float(second/60*1.0)+ min +hour *60\n",
        "\telse:\n",
        "\t\tduration =0.0\n",
        "\t\t\t\t\t\n",
        "\treturn duration\n",
        "\n",
        "def yeartoday(upload_data):\n",
        "\tif upload_data != '':\n",
        "\t\tstart_date = datetime.strptime(upload_data, \"%Y-%m-%d\")\n",
        "\t\tend_date = datetime.strptime('12/26/2021', \"%m/%d/%Y\")\n",
        "\t\treturn (end_date-start_date).days\n",
        "\t\t\n",
        "\telse:\n",
        "\t\treturn 100"
      ],
      "metadata": {
        "id": "Ok_VOYHYXLvv"
      },
      "execution_count": 3,
      "outputs": []
    },
    {
      "cell_type": "code",
      "source": [
        "def get_videos(df):\n",
        "    pageToken = \"\"\n",
        "    while 1:\n",
        "        sub_url = 'https://www.googleapis.com/youtube/v3/channels?part=statistics&id=' + CHANNEL_ID +'&key='+ API_KEY\n",
        "        if 'subscriberCount' in requests.get(sub_url).json()['items'][0]['statistics']:\n",
        "          subscriber = requests.get(sub_url).json()['items'][0]['statistics']['subscriberCount']\n",
        "        else:\n",
        "          subscriber = 0\n",
        "        url = \"https://www.googleapis.com/youtube/v3/search?key=\"+API_KEY+\"&channelId=\"+CHANNEL_ID+\"&part=snippet,id&order=date&maxResults=10000&\"+pageToken\n",
        "        \n",
        "\n",
        "        response = requests.get(url).json()\n",
        "        ct = datetime.now()\n",
        "        time.sleep(1) #give it a second before starting the for loop\n",
        "        for video in response['items']:\n",
        "            if video['id']['kind'] == \"youtube#video\":\n",
        "                video_id = video['id']['videoId']\n",
        "                video_title = video['snippet']['title']\n",
        "                video_title = str(video_title).replace(\"&amp;\",\"\")\n",
        "                upload_date = video['snippet']['publishedAt']\n",
        "                upload_date = str(upload_date).split(\"T\")[0]\n",
        "                view_count, like_count, comment_count, duration_count, tags, description= get_video_details(video_id)\n",
        "                duration_count = getduration(duration_count)\n",
        "                upload_days = yeartoday(upload_date)\n",
        "\n",
        "                if len(df.loc[df['video_id'] == video_id].index.tolist())==0:\n",
        "                  \n",
        "                  df = df.append({\"channel_id\":CHANNEL_ID ,'video_id':video_id,'video_title':video_title,'video_tags':tags,\n",
        "                                  'video_description' : description,\n",
        "                                  \"upload_date\":upload_date,\"view_count\":view_count,\n",
        "                                  \"like_count\":like_count, \"subscriber_count\":subscriber,\n",
        "                                  \"comment_count\":comment_count, 'duration_count' : duration_count},ignore_index=True)\n",
        "        try:\n",
        "            if response['nextPageToken'] != None: #if none, it means it reached the last page and break out of it\n",
        "                pageToken = \"pageToken=\" + response['nextPageToken']\n",
        "\n",
        "        except:\n",
        "            break\n",
        "\n",
        "\n",
        "    return df"
      ],
      "metadata": {
        "id": "MeMq-xuS2jPb"
      },
      "execution_count": 9,
      "outputs": []
    },
    {
      "cell_type": "code",
      "source": [
        "df2 = pd.DataFrame(columns=[\"channel_id\",\"video_id\",\"video_title\",'video_tags',\n",
        "                                'video_description' ,\"upload_date\",\"view_count\",\"like_count\",\"subscriber_count\",\"comment_count\", 'duration_count']) \n"
      ],
      "metadata": {
        "id": "O3eSxGPj4vYz"
      },
      "execution_count": 5,
      "outputs": []
    },
    {
      "cell_type": "code",
      "source": [
        ""
      ],
      "metadata": {
        "id": "TiG2csPVYsWM"
      },
      "execution_count": null,
      "outputs": []
    },
    {
      "cell_type": "code",
      "source": [
        "#API_KEY = 'your API key'\n",
        "#1362\n",
        "CHANNEL_ID_list = ['UCvmxzBDt6zpM1BhZaGeiV0Q','UC1dVfl5-I98WX3yCy8IJQMg','UC-gjtyoUTzGEwWM5Y1J4J7Q','UCNlfGuzOAKM1sycPuM_QTHg','UCjzHeG1KWoonmf9d5KBvSiw','UCJhjE7wbdYAae1G25m0tHAA','UCQtJT-hZA3FDTDHnQt9Qqsg','UCSJ4gkVC6NrvII8umztf0Ow']\n",
        "\n",
        "for CHANNEL_ID in CHANNEL_ID_list:\n",
        "  df2 = get_videos(df2)\n",
        "\n",
        "\n",
        "\n",
        "\n",
        "\n"
      ],
      "metadata": {
        "id": "rqnWZmRCWR-_"
      },
      "execution_count": 25,
      "outputs": []
    },
    {
      "cell_type": "markdown",
      "source": [
        ""
      ],
      "metadata": {
        "id": "y6dHwvNctbRP"
      }
    },
    {
      "cell_type": "code",
      "source": [
        "API_KEY = 'your API key'\n",
        "#3116\n",
        "CHANNEL_ID_list = ['UCL76qU6Tnitr-X-x82WbCGw','UCKHsXi0fY-mvLAAnLq95PPQ','UCtBBEQw4SFYOcrZKzY7quCQ','UCJuMbdKSMThk2RpALASyXVQ','UChyRMEp8zRio9nFnAjvzSnA','UCJIOFQLGwB3GH9K9waxwynQ','UC1XsdqFNRDsiB0ZYem_u4RQ','UCrMI3Ti5xys2eLng2HaMo1A','UCGN5K71CJEmfIVjr-6rjNPA']\n",
        "\n",
        "for CHANNEL_ID in CHANNEL_ID_list:\n",
        "  df2 = get_videos(df2)\n"
      ],
      "metadata": {
        "id": "WdUWZNOhu-Ad"
      },
      "execution_count": 11,
      "outputs": []
    },
    {
      "cell_type": "code",
      "source": [
        "API_KEY = 'your API key'\n",
        "#4633\n",
        "CHANNEL_ID_list = ['UCQINXHZqCU5i06HzxRkujfg','UC_iK_3e3JAP0UzgGQ7NLg9w','UCyD59CI7beJDU493glZpxgA','UCz9_4daWw-uWuqeB6_IkhMg','UCi8wqezBudeAiTdKOX571ug','UCr1tljCdi0qH0WSy5z0xp2g']\n",
        "\n",
        "for CHANNEL_ID in CHANNEL_ID_list:\n",
        "  df2 = get_videos(df2)"
      ],
      "metadata": {
        "id": "0Pe8z_nC39Ds"
      },
      "execution_count": 13,
      "outputs": []
    },
    {
      "cell_type": "code",
      "source": [
        "API_KEY = 'your API key'\n",
        "#6214\n",
        "CHANNEL_ID_list = ['UC2fVSthyWxWSjsiEAHPzriQ','UCxONCRXEhzv0cRbWCKybOsw','UCWzZ5TIGoZ6o-KtbGCyhnhg','UC0fiLCwTmAukotCXYnqfj0A']\n",
        "\n",
        "for CHANNEL_ID in CHANNEL_ID_list:\n",
        "  df2 = get_videos(df2)"
      ],
      "metadata": {
        "id": "ZItbcmDZ7aCU"
      },
      "execution_count": 15,
      "outputs": []
    },
    {
      "cell_type": "code",
      "source": [
        "API_KEY = 'your API key'\n",
        "#1362\n",
        "CHANNEL_ID_list = ['UCwkTfp14Sj7o6q9_8ADJpnA','UCZyyXrEF2WCZbI653PFNBbA','UC7G09-8q4gdyL4ylpw3TfSw','UCchwNR9bTzVNsrjF7mED0gQ','UCLMSs5YDNPZ1Pnm1zD_T5vg','UC4SnPoPC5g4LKsRsLVNIhmw']\n",
        "\n",
        "for CHANNEL_ID in CHANNEL_ID_list:\n",
        "  df2 = get_videos(df2)"
      ],
      "metadata": {
        "id": "gySdaNMbGXpq"
      },
      "execution_count": 17,
      "outputs": []
    },
    {
      "cell_type": "code",
      "source": [
        "df2"
      ],
      "metadata": {
        "colab": {
          "base_uri": "https://localhost:8080/",
          "height": 34
        },
        "id": "O7vqmzkj2pq9",
        "outputId": "8d7d0311-d1c5-4290-8997-719274e1f538"
      },
      "execution_count": 20,
      "outputs": [
        {
          "output_type": "execute_result",
          "data": {
            "text/html": [
              "\n",
              "  <div id=\"df-192287b7-a0bb-4d17-8570-a53ade0e9077\">\n",
              "    <div class=\"colab-df-container\">\n",
              "      <div>\n",
              "<style scoped>\n",
              "    .dataframe tbody tr th:only-of-type {\n",
              "        vertical-align: middle;\n",
              "    }\n",
              "\n",
              "    .dataframe tbody tr th {\n",
              "        vertical-align: top;\n",
              "    }\n",
              "\n",
              "    .dataframe thead th {\n",
              "        text-align: right;\n",
              "    }\n",
              "</style>\n",
              "<table border=\"1\" class=\"dataframe\">\n",
              "  <thead>\n",
              "    <tr style=\"text-align: right;\">\n",
              "      <th></th>\n",
              "      <th>channel_id</th>\n",
              "      <th>video_id</th>\n",
              "      <th>video_title</th>\n",
              "      <th>video_tags</th>\n",
              "      <th>video_description</th>\n",
              "      <th>upload_date</th>\n",
              "      <th>view_count</th>\n",
              "      <th>like_count</th>\n",
              "      <th>subscriber_count</th>\n",
              "      <th>comment_count</th>\n",
              "      <th>duration_count</th>\n",
              "    </tr>\n",
              "  </thead>\n",
              "  <tbody>\n",
              "    <tr>\n",
              "      <th>0</th>\n",
              "      <td>UCvmxzBDt6zpM1BhZaGeiV0Q</td>\n",
              "      <td>UtxnXuLRLd0</td>\n",
              "      <td>SOUL EMOTION ► Soul Mood - Smooth Soulful RB Mix</td>\n",
              "      <td>[soul music mix, soul emotion, soul mood, smoo...</td>\n",
              "      <td>SOUL EMOTION ► Soul Mood - Smooth Soulful R&amp;B ...</td>\n",
              "      <td>2022-01-06</td>\n",
              "      <td>1172</td>\n",
              "      <td>68</td>\n",
              "      <td>188000</td>\n",
              "      <td>5</td>\n",
              "      <td>85.866667</td>\n",
              "    </tr>\n",
              "    <tr>\n",
              "      <th>1</th>\n",
              "      <td>UCvmxzBDt6zpM1BhZaGeiV0Q</td>\n",
              "      <td>PTdwbCWsE_M</td>\n",
              "      <td>SOUL MUSIC ► Relaxing soul music  -  The Best ...</td>\n",
              "      <td>[soul music mix, relaxing soul music, music li...</td>\n",
              "      <td>SOUL MUSIC ► Relaxing soul music  -  The Best ...</td>\n",
              "      <td>2022-01-05</td>\n",
              "      <td>2338</td>\n",
              "      <td>73</td>\n",
              "      <td>188000</td>\n",
              "      <td>2</td>\n",
              "      <td>89.350000</td>\n",
              "    </tr>\n",
              "    <tr>\n",
              "      <th>2</th>\n",
              "      <td>UCvmxzBDt6zpM1BhZaGeiV0Q</td>\n",
              "      <td>rW0XJLQBBMg</td>\n",
              "      <td>MY SOUL ► The Best Of Soul Music - Best Soul M...</td>\n",
              "      <td>[soul music mix, my soul, music life, the best...</td>\n",
              "      <td>MY SOUL ► The Best Of Soul Music - Best Soul M...</td>\n",
              "      <td>2022-01-04</td>\n",
              "      <td>2232</td>\n",
              "      <td>90</td>\n",
              "      <td>188000</td>\n",
              "      <td>1</td>\n",
              "      <td>96.500000</td>\n",
              "    </tr>\n",
              "    <tr>\n",
              "      <th>3</th>\n",
              "      <td>UCvmxzBDt6zpM1BhZaGeiV0Q</td>\n",
              "      <td>Zhvrd5camL8</td>\n",
              "      <td>SOUL MUSIC ► Greatest Hit Soul Playlist 2022 -...</td>\n",
              "      <td>[soul music mix, greatest hit soul playlist 20...</td>\n",
              "      <td>SOUL MUSIC ► Greatest Hit Soul Playlist 2022 -...</td>\n",
              "      <td>2022-01-03</td>\n",
              "      <td>6098</td>\n",
              "      <td>109</td>\n",
              "      <td>188000</td>\n",
              "      <td>6</td>\n",
              "      <td>126.200000</td>\n",
              "    </tr>\n",
              "    <tr>\n",
              "      <th>4</th>\n",
              "      <td>UCvmxzBDt6zpM1BhZaGeiV0Q</td>\n",
              "      <td>o1eYqmWkS3Q</td>\n",
              "      <td>Super Soul Sunday 2022 - New Soul Music - The ...</td>\n",
              "      <td>[soul music mix, super soul sunday 2022, music...</td>\n",
              "      <td>Super Soul Sunday 2022 - New Soul Music - The ...</td>\n",
              "      <td>2022-01-02</td>\n",
              "      <td>2514</td>\n",
              "      <td>85</td>\n",
              "      <td>188000</td>\n",
              "      <td>7</td>\n",
              "      <td>95.933333</td>\n",
              "    </tr>\n",
              "    <tr>\n",
              "      <th>...</th>\n",
              "      <td>...</td>\n",
              "      <td>...</td>\n",
              "      <td>...</td>\n",
              "      <td>...</td>\n",
              "      <td>...</td>\n",
              "      <td>...</td>\n",
              "      <td>...</td>\n",
              "      <td>...</td>\n",
              "      <td>...</td>\n",
              "      <td>...</td>\n",
              "      <td>...</td>\n",
              "    </tr>\n",
              "    <tr>\n",
              "      <th>7428</th>\n",
              "      <td>UCw8T8zmwYmTrmW4OPmK1X8g</td>\n",
              "      <td>j9yVlcdLS88</td>\n",
              "      <td>【100%無廣告】超專心! 學習專注力讀書音樂 ♫ 作業用BGM , 勉強用BGM 鋼琴純音...</td>\n",
              "      <td>[讀書音樂'閱讀音樂, 專注音樂, 讀書 音樂, 專注 音樂, 學習音樂, 適合讀書的音樂,...</td>\n",
              "      <td>【100%無廣告】超專心! 學習專注力讀書音樂 ♫ 作業用BGM , 勉強用BGM 鋼琴純音...</td>\n",
              "      <td>2021-04-29</td>\n",
              "      <td>203223</td>\n",
              "      <td>1425</td>\n",
              "      <td>26800</td>\n",
              "      <td>49</td>\n",
              "      <td>95.866667</td>\n",
              "    </tr>\n",
              "    <tr>\n",
              "      <th>7429</th>\n",
              "      <td>UCw8T8zmwYmTrmW4OPmK1X8g</td>\n",
              "      <td>ZCaOvay7dZ0</td>\n",
              "      <td>最舒服讀書＆工作音樂 📚 最佳声音背景音乐, 閱讀和學習音樂 , 集中的音樂, 學習專注力讀...</td>\n",
              "      <td>[讀書音樂'閱讀音樂, 專注音樂, 讀書 音樂, 專注 音樂, 學習音樂, 適合讀書的音樂,...</td>\n",
              "      <td>最舒服讀書＆工作音樂 📚 最佳声音背景音乐, 閱讀和學習音樂 , 集中的音樂, 學習專注力讀...</td>\n",
              "      <td>2021-04-26</td>\n",
              "      <td>51853</td>\n",
              "      <td>388</td>\n",
              "      <td>26800</td>\n",
              "      <td>9</td>\n",
              "      <td>62.416667</td>\n",
              "    </tr>\n",
              "    <tr>\n",
              "      <th>7430</th>\n",
              "      <td>UCw8T8zmwYmTrmW4OPmK1X8g</td>\n",
              "      <td>GpCaLfyMVxE</td>\n",
              "      <td>【100% 無廣告讀書音樂 】超專心!  最好聽讀書音樂 ​♫ 最佳声音背景音乐, 作業用B...</td>\n",
              "      <td>[讀書音樂'閱讀音樂, 專注音樂, 讀書 音樂, 專注 音樂, 學習音樂, 適合讀書的音樂,...</td>\n",
              "      <td>【100% 無廣告讀書音樂 】超專心!  最好聽讀書音樂 ​♫ 最佳声音背景音乐, 作業用B...</td>\n",
              "      <td>2021-04-25</td>\n",
              "      <td>237455</td>\n",
              "      <td>1583</td>\n",
              "      <td>26800</td>\n",
              "      <td>36</td>\n",
              "      <td>93.366667</td>\n",
              "    </tr>\n",
              "    <tr>\n",
              "      <th>7431</th>\n",
              "      <td>UCw8T8zmwYmTrmW4OPmK1X8g</td>\n",
              "      <td>COGXH8sZZ2k</td>\n",
              "      <td>「無廣告版」超專心! 學習專注力讀書音樂  📚 最佳声音背景音乐 - 一個人安靜的工作讀書 ...</td>\n",
              "      <td>[讀書音樂'閱讀音樂, 專注音樂, 讀書 音樂, 專注 音樂, 學習音樂, 適合讀書的音樂,...</td>\n",
              "      <td>「無廣告版」超專心! 學習專注力讀書音樂  📚 最佳声音背景音乐 - 一個人安靜的工作&amp;讀書...</td>\n",
              "      <td>2021-04-24</td>\n",
              "      <td>3586905</td>\n",
              "      <td>23066</td>\n",
              "      <td>26800</td>\n",
              "      <td>806</td>\n",
              "      <td>89.250000</td>\n",
              "    </tr>\n",
              "    <tr>\n",
              "      <th>7432</th>\n",
              "      <td>UCw8T8zmwYmTrmW4OPmK1X8g</td>\n",
              "      <td>pxHDXlxnzV8</td>\n",
              "      <td>最舒服讀書＆工作音樂 📚 最佳声音背景音乐, 閱讀和學習音樂 , 集中的音樂, 學習專注力讀...</td>\n",
              "      <td>[讀書音樂'閱讀音樂, 專注音樂, 讀書 音樂, 專注 音樂, 學習音樂, 適合讀書的音樂,...</td>\n",
              "      <td>最舒服讀書＆工作音樂 📚 最佳声音背景音乐, 閱讀和學習音樂 , 集中的音樂, 學習專注力讀...</td>\n",
              "      <td>2021-04-01</td>\n",
              "      <td>4172</td>\n",
              "      <td>41</td>\n",
              "      <td>26800</td>\n",
              "      <td>0</td>\n",
              "      <td>80.233333</td>\n",
              "    </tr>\n",
              "  </tbody>\n",
              "</table>\n",
              "<p>7433 rows × 11 columns</p>\n",
              "</div>\n",
              "      <button class=\"colab-df-convert\" onclick=\"convertToInteractive('df-192287b7-a0bb-4d17-8570-a53ade0e9077')\"\n",
              "              title=\"Convert this dataframe to an interactive table.\"\n",
              "              style=\"display:none;\">\n",
              "        \n",
              "  <svg xmlns=\"http://www.w3.org/2000/svg\" height=\"24px\"viewBox=\"0 0 24 24\"\n",
              "       width=\"24px\">\n",
              "    <path d=\"M0 0h24v24H0V0z\" fill=\"none\"/>\n",
              "    <path d=\"M18.56 5.44l.94 2.06.94-2.06 2.06-.94-2.06-.94-.94-2.06-.94 2.06-2.06.94zm-11 1L8.5 8.5l.94-2.06 2.06-.94-2.06-.94L8.5 2.5l-.94 2.06-2.06.94zm10 10l.94 2.06.94-2.06 2.06-.94-2.06-.94-.94-2.06-.94 2.06-2.06.94z\"/><path d=\"M17.41 7.96l-1.37-1.37c-.4-.4-.92-.59-1.43-.59-.52 0-1.04.2-1.43.59L10.3 9.45l-7.72 7.72c-.78.78-.78 2.05 0 2.83L4 21.41c.39.39.9.59 1.41.59.51 0 1.02-.2 1.41-.59l7.78-7.78 2.81-2.81c.8-.78.8-2.07 0-2.86zM5.41 20L4 18.59l7.72-7.72 1.47 1.35L5.41 20z\"/>\n",
              "  </svg>\n",
              "      </button>\n",
              "      \n",
              "  <style>\n",
              "    .colab-df-container {\n",
              "      display:flex;\n",
              "      flex-wrap:wrap;\n",
              "      gap: 12px;\n",
              "    }\n",
              "\n",
              "    .colab-df-convert {\n",
              "      background-color: #E8F0FE;\n",
              "      border: none;\n",
              "      border-radius: 50%;\n",
              "      cursor: pointer;\n",
              "      display: none;\n",
              "      fill: #1967D2;\n",
              "      height: 32px;\n",
              "      padding: 0 0 0 0;\n",
              "      width: 32px;\n",
              "    }\n",
              "\n",
              "    .colab-df-convert:hover {\n",
              "      background-color: #E2EBFA;\n",
              "      box-shadow: 0px 1px 2px rgba(60, 64, 67, 0.3), 0px 1px 3px 1px rgba(60, 64, 67, 0.15);\n",
              "      fill: #174EA6;\n",
              "    }\n",
              "\n",
              "    [theme=dark] .colab-df-convert {\n",
              "      background-color: #3B4455;\n",
              "      fill: #D2E3FC;\n",
              "    }\n",
              "\n",
              "    [theme=dark] .colab-df-convert:hover {\n",
              "      background-color: #434B5C;\n",
              "      box-shadow: 0px 1px 3px 1px rgba(0, 0, 0, 0.15);\n",
              "      filter: drop-shadow(0px 1px 2px rgba(0, 0, 0, 0.3));\n",
              "      fill: #FFFFFF;\n",
              "    }\n",
              "  </style>\n",
              "\n",
              "      <script>\n",
              "        const buttonEl =\n",
              "          document.querySelector('#df-192287b7-a0bb-4d17-8570-a53ade0e9077 button.colab-df-convert');\n",
              "        buttonEl.style.display =\n",
              "          google.colab.kernel.accessAllowed ? 'block' : 'none';\n",
              "\n",
              "        async function convertToInteractive(key) {\n",
              "          const element = document.querySelector('#df-192287b7-a0bb-4d17-8570-a53ade0e9077');\n",
              "          const dataTable =\n",
              "            await google.colab.kernel.invokeFunction('convertToInteractive',\n",
              "                                                     [key], {});\n",
              "          if (!dataTable) return;\n",
              "\n",
              "          const docLinkHtml = 'Like what you see? Visit the ' +\n",
              "            '<a target=\"_blank\" href=https://colab.research.google.com/notebooks/data_table.ipynb>data table notebook</a>'\n",
              "            + ' to learn more about interactive tables.';\n",
              "          element.innerHTML = '';\n",
              "          dataTable['output_type'] = 'display_data';\n",
              "          await google.colab.output.renderOutput(dataTable, element);\n",
              "          const docLink = document.createElement('div');\n",
              "          docLink.innerHTML = docLinkHtml;\n",
              "          element.appendChild(docLink);\n",
              "        }\n",
              "      </script>\n",
              "    </div>\n",
              "  </div>\n",
              "  "
            ],
            "text/plain": [
              "                    channel_id     video_id  ... comment_count duration_count\n",
              "0     UCvmxzBDt6zpM1BhZaGeiV0Q  UtxnXuLRLd0  ...             5      85.866667\n",
              "1     UCvmxzBDt6zpM1BhZaGeiV0Q  PTdwbCWsE_M  ...             2      89.350000\n",
              "2     UCvmxzBDt6zpM1BhZaGeiV0Q  rW0XJLQBBMg  ...             1      96.500000\n",
              "3     UCvmxzBDt6zpM1BhZaGeiV0Q  Zhvrd5camL8  ...             6     126.200000\n",
              "4     UCvmxzBDt6zpM1BhZaGeiV0Q  o1eYqmWkS3Q  ...             7      95.933333\n",
              "...                        ...          ...  ...           ...            ...\n",
              "7428  UCw8T8zmwYmTrmW4OPmK1X8g  j9yVlcdLS88  ...            49      95.866667\n",
              "7429  UCw8T8zmwYmTrmW4OPmK1X8g  ZCaOvay7dZ0  ...             9      62.416667\n",
              "7430  UCw8T8zmwYmTrmW4OPmK1X8g  GpCaLfyMVxE  ...            36      93.366667\n",
              "7431  UCw8T8zmwYmTrmW4OPmK1X8g  COGXH8sZZ2k  ...           806      89.250000\n",
              "7432  UCw8T8zmwYmTrmW4OPmK1X8g  pxHDXlxnzV8  ...             0      80.233333\n",
              "\n",
              "[7433 rows x 11 columns]"
            ]
          },
          "metadata": {},
          "execution_count": 20
        }
      ]
    },
    {
      "cell_type": "code",
      "source": [
        "df2.to_csv('youtube_playlist.csv')\n"
      ],
      "metadata": {
        "id": "rEaZcwRv9uzM"
      },
      "execution_count": 21,
      "outputs": []
    },
    {
      "cell_type": "code",
      "source": [
        "[\"channel_id\",\"video_id\",\"video_title\",'video_tags',\n",
        "                                'video_description' ,\"upload_date\",\"view_count\",\"like_count\",\"subscriber_count\",\"comment_count\", 'duration_count']) "
      ],
      "metadata": {
        "colab": {
          "base_uri": "https://localhost:8080/"
        },
        "id": "FEd1B6WvpnRs",
        "outputId": "09e06e2f-5998-42cb-a45e-741fefd3d071"
      },
      "execution_count": 82,
      "outputs": [
        {
          "output_type": "execute_result",
          "data": {
            "text/plain": [
              "1"
            ]
          },
          "metadata": {},
          "execution_count": 82
        }
      ]
    },
    {
      "cell_type": "code",
      "source": [
        "def connect_to_db(host_name, dbname, port, username, password):\n",
        "    try:\n",
        "        conn = ps.connect(host=host_name, database=dbname, user=username, password=password, port=port)\n",
        "\n",
        "    except ps.OperationalError as e:\n",
        "        raise e\n",
        "    else:\n",
        "        print('Connected!')\n",
        "        return conn\n",
        "\n",
        "def create_table(curr):\n",
        "    create_table_command = (\"\"\"CREATE TABLE IF NOT EXISTS videos (\n",
        "                    channel_id VARCHAR(255) NOT NULL,\n",
        "                    video_id VARCHAR(255) PRIMARY KEY,\n",
        "                    video_title TEXT NOT NULL,\n",
        "                    Video_tags TEXT NOT NULL,\n",
        "                    video_description TEXR NOT NULL,\n",
        "                    upload_date DATE NOT NULL DEFAULT CURRENT_DATE,\n",
        "                    view_count INTEGER NOT NULL,\n",
        "                    like_count INTEGER NOT NULL,\n",
        "                    subscriber_count INTEGER NOT NULL,\n",
        "                    comment_count INTEGER NOT NULL,\n",
        "                    duration_count FLOAT NOT NULL\n",
        "            )\"\"\")\n",
        "\n",
        "    curr.execute(create_table_command)\n",
        "\n",
        "def insert_into_table(curr, channel_id,video_id, video_title, Video_tags, video_description, upload_date,\n",
        "                        view_count, like_count, subscriber_count,comment_count, duration_count):\n",
        "    insert_into_videos = (\"\"\"INSERT INTO videos (channel_id,video_id, video_title, Video_tags, video_description, upload_date,\n",
        "                        view_count, like_count, subscriber_count,comment_count, duration_count)\n",
        "    VALUES(%s,%s,%s,%s,%s,%s,%s,%s,%s,%s,%s);\"\"\")\n",
        "    row_to_insert = (channel_id,video_id, video_title, Video_tags, video_description, upload_date,\n",
        "                        view_count, like_count, subscriber_count,comment_count, duration_count)\n",
        "    curr.execute(insert_into_videos, row_to_insert)\n",
        "\n",
        "\n",
        "def update_row(curr, channel_id,video_id, video_title, Video_tags, video_description, upload_date,\n",
        "                        view_count, like_count, subscriber_count,comment_count, duration_count):\n",
        "    query = (\"\"\"UPDATE videos\n",
        "            SET channel_id = %s,\n",
        "                video_title = %s,\n",
        "                video_tags = %s,\n",
        "                video_description = %s,\n",
        "                view_count = %s,\n",
        "                like_count = %s,\n",
        "                subscriber_count = %s,\n",
        "                comment_count = %s,\n",
        "                duration_count = %s\n",
        "            WHERE video_id = %s;\"\"\")\n",
        "    vars_to_update = (channel_id,video_id, video_title, Video_tags, video_description, upload_date,\n",
        "                        view_count, like_count, subscriber_count,comment_count, duration_count)\n",
        "    curr.execute(query, vars_to_update)\n",
        "\n",
        "\n",
        "def check_if_video_exists(curr, video_id): \n",
        "    query = (\"\"\"SELECT video_id FROM VIDEOS WHERE video_id = %s\"\"\")\n",
        "\n",
        "    curr.execute(query, (video_id,))\n",
        "    return curr.fetchone() is not None\n",
        "\n",
        "\n",
        "\n",
        "def truncate_table(curr):\n",
        "    truncate_table = (\"\"\"TRUNCATE TABLE videos\"\"\")\n",
        "\n",
        "    curr.execute(truncate_table)\n",
        "\n",
        "\n",
        "def append_from_df_to_db(curr,df):\n",
        "    for i, row in df.iterrows():\n",
        "        insert_into_table(curr,row['channel_id'], row['video_id'], row['video_title'],row['video_tags'], row['video_description'], row['upload_date'], row['view_count']\n",
        "                          , row['like_count'], row['dislike_count'], row['comment_count'],row['duration_count'])\n",
        "\n",
        "\n",
        "def update_db(curr,df):\n",
        "    tmp_df = pd.DataFrame(columns=[\"channel_id\",\"video_id\",\"video_title\",'video_tags',\n",
        "                                'video_description' ,\"upload_date\",\"view_count\",\"like_count\",\"subscriber_count\",\"comment_count\", 'duration_count']) \n",
        "    for i, row in df.iterrows():\n",
        "        if check_if_video_exists(curr, row['video_id']): # If video already exists then we will update\n",
        "            update_row(curr,row['channel_id'], row['video_id'], row['video_title'],row['video_tags'], row['video_description'], row['upload_date'], row['view_count']\n",
        "                          , row['like_count'], row['dislike_count'], row['comment_count'],row['duration_count'])\n",
        "        else: # The video doesn't exists so we will add it to a temp df and append it using append_from_df_to_db\n",
        "            tmp_df = tmp_df.append(row)\n",
        "\n",
        "    return tmp_df"
      ],
      "metadata": {
        "id": "rnWkJfAunIzG"
      },
      "execution_count": 37,
      "outputs": []
    },
    {
      "cell_type": "code",
      "source": [
        "#Main\n",
        "\n",
        "#database credentials\n",
        "host_name = 'youtube-1.cwhvdi8lllqh.us-west-2.rds.amazonaws.com'\n",
        "dbname = '-'\n",
        "port = '3306'\n",
        "username = 'admin' \n",
        "password = 'personalProject1'\n",
        "conn = None\n",
        "\n",
        "#establish a connection to db\n",
        "conn = connect_to_db(host_name, dbname, port, username, password)\n",
        "curr = conn.cursor()"
      ],
      "metadata": {
        "id": "0zGFbCxEmFGS"
      },
      "execution_count": 22,
      "outputs": []
    },
    {
      "cell_type": "code",
      "source": [
        ""
      ],
      "metadata": {
        "id": "_ExPNCcQpKpB"
      },
      "execution_count": null,
      "outputs": []
    }
  ]
}